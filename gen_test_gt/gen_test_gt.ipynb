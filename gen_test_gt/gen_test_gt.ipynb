{
 "cells": [
  {
   "cell_type": "code",
   "execution_count": 1,
   "id": "67a84dfd",
   "metadata": {},
   "outputs": [],
   "source": [
    "import json\n",
    "import numpy as np\n",
    "from numpy import array\n",
    "from scipy.io import loadmat,savemat"
   ]
  },
  {
   "cell_type": "code",
   "execution_count": 2,
   "id": "d866dc4f",
   "metadata": {},
   "outputs": [],
   "source": [
    "mat1 = loadmat('../data/test.mat')"
   ]
  },
  {
   "cell_type": "code",
   "execution_count": 7,
   "id": "1b52aede",
   "metadata": {
    "tags": []
   },
   "outputs": [],
   "source": [
    "joint_data_fn = 'test.json'\n",
    "total_json = []\n",
    "for i in range(mat1['test'].shape[1]):\n",
    "    anno = mat1['test']['annorect'][0,i]\n",
    "    img_fn = mat1['test']['image'][0,i][0,0][0][0]\n",
    "\n",
    "    anno_fields = str(anno.dtype)\n",
    "    if 'objpos' not in anno_fields or 'scale' not in anno_fields or\\\n",
    "        'annopoints' not in anno_fields:\n",
    "        print(i)\n",
    "        continue\n",
    "\n",
    "    temp_json = {}\n",
    "    temp_json['image'] = img_fn\n",
    "    temp_json['center'] = [round(anno['objpos'][0,0]['x'][0,0][0][0],2),\n",
    "                           round(anno['objpos'][0,0]['y'][0,0][0][0],2)]\n",
    "    temp_json['scale'] = round(float(anno['scale'][0,0][0,0]), 8)\n",
    "\n",
    "    x1 = round(float(anno['x1'][0,0][0,0]))\n",
    "    x2 = round(float(anno['x2'][0,0][0,0]))\n",
    "    y1 = round(float(anno['y1'][0,0][0,0]))\n",
    "    y2 = round(float(anno['y2'][0,0][0,0]))\n",
    "    temp_json['head'] = [[x1, y1], [x2, y2]]\n",
    "\n",
    "    joints_vis = [0.0] * 16\n",
    "    joints = [[0.0, 0.0]] * 16\n",
    "\n",
    "    for j in range(anno['annopoints'][0,0][0,0][0]['x'].shape[1]):\n",
    "        joint_x = round(float(anno['annopoints'][0,0][0,0][0]['x'][0,j][0,0]), 2)\n",
    "        joint_y = round(float(anno['annopoints'][0,0][0,0][0]['y'][0,j][0,0]), 2)\n",
    "        joint_id = anno['annopoints'][0,0][0,0][0]['id'][0,j][0,0]\n",
    "        joint_vis = anno['annopoints'][0,0][0,0][0]['is_visible'][0,j]\n",
    "        joints_vis[joint_id] = float(0) if joint_vis.size == 0 else float(joint_vis[0][0])\n",
    "        joints[joint_id] = [joint_x, joint_y]\n",
    "\n",
    "    temp_json['joints'] = joints\n",
    "    temp_json['joints_vis'] = joints_vis\n",
    "    total_json.append(temp_json)\n",
    "\n",
    "# print(count)\n",
    "with open(joint_data_fn, \"w\", encoding='utf-8') as f:\n",
    "    # indent 超级好用，格式化保存字典，默认为None，小于0为零个空格\n",
    "    # f.write(json.dumps(total_json, indent=4))\n",
    "    json.dump(total_json, f, indent=4)   # 和上面的效果一样"
   ]
  },
  {
   "cell_type": "code",
   "execution_count": 10,
   "id": "a52e30b4",
   "metadata": {
    "tags": []
   },
   "outputs": [
    {
     "name": "stdout",
     "output_type": "stream",
     "text": [
      "7246\n"
     ]
    }
   ],
   "source": [
    "from numpy import array\n",
    "test_dict = {} \n",
    "test_dict['dataset_joints'] = array([[array(['rank'], dtype='<U4'), array(['rkne'], dtype='<U4'),\n",
    "                                      array(['rhip'], dtype='<U4'), array(['lhip'], dtype='<U4'),\n",
    "                                      array(['lkne'], dtype='<U4'), array(['lank'], dtype='<U4'),\n",
    "                                      array(['pelv'], dtype='<U4'), array(['thor'], dtype='<U4'),\n",
    "                                      array(['neck'], dtype='<U4'), array(['head'], dtype='<U4'),\n",
    "                                      array(['rwri'], dtype='<U4'), array(['relb'], dtype='<U4'),\n",
    "                                      array(['rsho'], dtype='<U4'), array(['lsho'], dtype='<U4'),\n",
    "                                      array(['lelb'], dtype='<U4'), array(['lwri'], dtype='<U4')]],\n",
    "                                      dtype=object)\n",
    "\n",
    "pos_gt_src = np.zeros((7247, 16, 2), dtype=float)\n",
    "jnt_vis = np.zeros((7247, 16), dtype=float)\n",
    "headboxes_src = np.zeros((7247, 2, 2), dtype=float)\n",
    "\n",
    "idx = -1\n",
    "for i in range(mat1['test'].shape[1]):\n",
    "    anno = mat1['test']['annorect'][0,i]\n",
    "    img_fn = mat1['test']['image'][0,i][0,0][0][0]\n",
    "\n",
    "    anno_fields = str(anno.dtype)\n",
    "    if 'objpos' not in anno_fields or 'scale' not in anno_fields or\\\n",
    "        'annopoints' not in anno_fields:\n",
    "        print(i)\n",
    "        continue\n",
    "    \n",
    "    x1 = round(float(anno['x1'][0,0][0,0]))\n",
    "    x2 = round(float(anno['x2'][0,0][0,0]))\n",
    "    y1 = round(float(anno['y1'][0,0][0,0]))\n",
    "    y2 = round(float(anno['y2'][0,0][0,0]))\n",
    "    headboxes_src[i,0,0] = x1\n",
    "    headboxes_src[i,0,1] = y1\n",
    "    headboxes_src[i,1,0] = x2\n",
    "    headboxes_src[i,1,1] = y2\n",
    "\n",
    "    for j in range(anno['annopoints'][0,0][0,0][0]['x'].shape[1]):\n",
    "        joint_x = anno['annopoints'][0,0][0,0][0]['x'][0,j][0,0]\n",
    "        joint_y = anno['annopoints'][0,0][0,0][0]['y'][0,j][0,0]\n",
    "        joint_id = anno['annopoints'][0,0][0,0][0]['id'][0,j][0,0]\n",
    "        joint_vis = anno['annopoints'][0,0][0,0][0]['is_visible'][0,j]\n",
    "        joint_vis = 0 if joint_vis.size == 0 else joint_vis[0,0]\n",
    "        pos_gt_src[i,joint_id,0] = joint_x\n",
    "        pos_gt_src[i,joint_id,1] = joint_y\n",
    "        jnt_vis[i,joint_id] = joint_vis\n",
    "\n",
    "            \n",
    "print(i)\n",
    "jnt_missing = 1-jnt_vis\n",
    "test_dict['headboxes_src'] = headboxes_src.transpose(1, 2, 0)\n",
    "test_dict['pos_gt_src'] = pos_gt_src.transpose(1, 2, 0)\n",
    "test_dict['jnt_missing'] = jnt_missing.transpose(1, 0)\n",
    "\n",
    "savemat('gt_test.mat', mdict=test_dict)"
   ]
  },
  {
   "cell_type": "code",
   "execution_count": null,
   "id": "dd683be6",
   "metadata": {
    "tags": []
   },
   "outputs": [],
   "source": []
  }
 ],
 "metadata": {
  "kernelspec": {
   "display_name": "Python 3",
   "language": "python",
   "name": "python3"
  },
  "language_info": {
   "codemirror_mode": {
    "name": "ipython",
    "version": 3
   },
   "file_extension": ".py",
   "mimetype": "text/x-python",
   "name": "python",
   "nbconvert_exporter": "python",
   "pygments_lexer": "ipython3",
   "version": "3.8.8"
  }
 },
 "nbformat": 4,
 "nbformat_minor": 5
}
